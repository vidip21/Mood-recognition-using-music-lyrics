{
 "cells": [
  {
   "cell_type": "code",
   "execution_count": 4,
   "id": "45a7ce6d",
   "metadata": {},
   "outputs": [],
   "source": [
    "import joblib\n",
    "loaded_rf = joblib.load(\"my_random_forest.joblib\")"
   ]
  },
  {
   "cell_type": "code",
   "execution_count": 6,
   "id": "baa03edb",
   "metadata": {},
   "outputs": [
    {
     "data": {
      "text/plain": [
       "array(['energetic'], dtype=object)"
      ]
     },
     "execution_count": 6,
     "metadata": {},
     "output_type": "execute_result"
    }
   ],
   "source": [
    "loaded_rf.predict([[7.220526,-4.279252,-0.053360,0.095832,-0.047315,-0.046614]])"
   ]
  },
  {
   "cell_type": "code",
   "execution_count": 7,
   "id": "47ceab54",
   "metadata": {},
   "outputs": [
    {
     "data": {
      "text/plain": [
       "array(['calm'], dtype=object)"
      ]
     },
     "execution_count": 7,
     "metadata": {},
     "output_type": "execute_result"
    }
   ],
   "source": [
    "loaded_rf.predict([[-49.792906,-0.657688,0.581089,-0.073159,-0.430823,0.178931]])"
   ]
  },
  {
   "cell_type": "code",
   "execution_count": 11,
   "id": "c5838fbc",
   "metadata": {},
   "outputs": [
    {
     "data": {
      "text/plain": [
       "array(['sad'], dtype=object)"
      ]
     },
     "execution_count": 11,
     "metadata": {},
     "output_type": "execute_result"
    }
   ],
   "source": [
    "loaded_rf.predict([[30.115432,4.442965,-0.452078,-0.411034,-0.058506,-0.024384]])"
   ]
  },
  {
   "cell_type": "code",
   "execution_count": 14,
   "id": "348cff40",
   "metadata": {},
   "outputs": [
    {
     "data": {
      "text/plain": [
       "array(['calm'], dtype=object)"
      ]
     },
     "execution_count": 14,
     "metadata": {},
     "output_type": "execute_result"
    }
   ],
   "source": [
    "loaded_rf.predict([[-14.898659,1.456642,-0.069766,0.083574,-0.334754,-0.051012]])"
   ]
  },
  {
   "cell_type": "code",
   "execution_count": 16,
   "id": "24edfde9",
   "metadata": {},
   "outputs": [
    {
     "data": {
      "text/plain": [
       "array(['calm'], dtype=object)"
      ]
     },
     "execution_count": 16,
     "metadata": {},
     "output_type": "execute_result"
    }
   ],
   "source": [
    "loaded_rf.predict([[-34.902259,-2.031058,0.593380,-0.630902,-0.081888,0.071306]])"
   ]
  },
  {
   "cell_type": "code",
   "execution_count": 17,
   "id": "74f14143",
   "metadata": {},
   "outputs": [
    {
     "data": {
      "text/plain": [
       "array(['energetic'], dtype=object)"
      ]
     },
     "execution_count": 17,
     "metadata": {},
     "output_type": "execute_result"
    }
   ],
   "source": [
    "loaded_rf.predict([[-3.762884,-3.766640,-0.083303,0.225089,-0.045013,-0.12379]])"
   ]
  },
  {
   "cell_type": "code",
   "execution_count": 18,
   "id": "30d82d57",
   "metadata": {},
   "outputs": [
    {
     "data": {
      "text/plain": [
       "array(['calm'], dtype=object)"
      ]
     },
     "execution_count": 18,
     "metadata": {},
     "output_type": "execute_result"
    }
   ],
   "source": [
    "loaded_rf.predict([[-35.434123,2.476920,0.394675,-0.169234,0.179453,-0.028406]])"
   ]
  },
  {
   "cell_type": "code",
   "execution_count": 19,
   "id": "54de9128",
   "metadata": {},
   "outputs": [
    {
     "data": {
      "text/plain": [
       "array(['energetic'], dtype=object)"
      ]
     },
     "execution_count": 19,
     "metadata": {},
     "output_type": "execute_result"
    }
   ],
   "source": [
    "loaded_rf.predict([[-11.899249,-2.138921,-0.211100,0.180952,-0.308192,-0.118884]])"
   ]
  },
  {
   "cell_type": "code",
   "execution_count": 20,
   "id": "71cc5aa2",
   "metadata": {},
   "outputs": [
    {
     "data": {
      "text/plain": [
       "array(['energetic'], dtype=object)"
      ]
     },
     "execution_count": 20,
     "metadata": {},
     "output_type": "execute_result"
    }
   ],
   "source": [
    "loaded_rf.predict([[-8.780284,-5.079865,-0.079292,0.046974,-0.203800,0.126003]])"
   ]
  },
  {
   "cell_type": "code",
   "execution_count": 23,
   "id": "8cf5dfa9",
   "metadata": {},
   "outputs": [
    {
     "data": {
      "text/plain": [
       "array(['calm'], dtype=object)"
      ]
     },
     "execution_count": 23,
     "metadata": {},
     "output_type": "execute_result"
    }
   ],
   "source": [
    "loaded_rf.predict([[18.050448,0.619203,0.388476,-0.121312,0.417072,-0.167144]])"
   ]
  },
  {
   "cell_type": "code",
   "execution_count": 24,
   "id": "dffc68ab",
   "metadata": {},
   "outputs": [
    {
     "data": {
      "text/plain": [
       "array(['sad'], dtype=object)"
      ]
     },
     "execution_count": 24,
     "metadata": {},
     "output_type": "execute_result"
    }
   ],
   "source": [
    "loaded_rf.predict([[-1.964338,-2.422097,-0.156997,-0.606278,0.171261,-0.134402]])"
   ]
  },
  {
   "cell_type": "code",
   "execution_count": 25,
   "id": "2aeae66e",
   "metadata": {},
   "outputs": [
    {
     "data": {
      "text/plain": [
       "array(['sad'], dtype=object)"
      ]
     },
     "execution_count": 25,
     "metadata": {},
     "output_type": "execute_result"
    }
   ],
   "source": [
    "loaded_rf.predict([[25.054742,7.322954,-0.549356,0.103260,-0.092107,-0.099336]])"
   ]
  },
  {
   "cell_type": "code",
   "execution_count": 26,
   "id": "a5f4fe4e",
   "metadata": {},
   "outputs": [
    {
     "data": {
      "text/plain": [
       "array(['sad'], dtype=object)"
      ]
     },
     "execution_count": 26,
     "metadata": {},
     "output_type": "execute_result"
    }
   ],
   "source": [
    "loaded_rf.predict([[-32.350073,4.279855,-0.553347,-0.347297,0.042385,-0.007525]])"
   ]
  },
  {
   "cell_type": "code",
   "execution_count": 27,
   "id": "d9208762",
   "metadata": {},
   "outputs": [
    {
     "data": {
      "text/plain": [
       "array(['calm'], dtype=object)"
      ]
     },
     "execution_count": 27,
     "metadata": {},
     "output_type": "execute_result"
    }
   ],
   "source": [
    "loaded_rf.predict([[-37.100071,2.345400,-0.466035,-0.351894,0.027787,-0.007567]])"
   ]
  },
  {
   "cell_type": "code",
   "execution_count": 28,
   "id": "45c20655",
   "metadata": {},
   "outputs": [
    {
     "data": {
      "text/plain": [
       "array(['happy'], dtype=object)"
      ]
     },
     "execution_count": 28,
     "metadata": {},
     "output_type": "execute_result"
    }
   ],
   "source": [
    "loaded_rf.predict([[-11.734934,-5.117056,-0.027204,0.357136,0.207984,0.147692]])"
   ]
  },
  {
   "cell_type": "code",
   "execution_count": 29,
   "id": "e52fda4d",
   "metadata": {},
   "outputs": [
    {
     "data": {
      "text/plain": [
       "array(['sad'], dtype=object)"
      ]
     },
     "execution_count": 29,
     "metadata": {},
     "output_type": "execute_result"
    }
   ],
   "source": [
    "loaded_rf.predict([[30.365345,0.388069,-0.281784,-0.413719,-0.153925,0.083241]])"
   ]
  },
  {
   "cell_type": "code",
   "execution_count": 30,
   "id": "80d45a46",
   "metadata": {},
   "outputs": [
    {
     "data": {
      "text/plain": [
       "array(['calm'], dtype=object)"
      ]
     },
     "execution_count": 30,
     "metadata": {},
     "output_type": "execute_result"
    }
   ],
   "source": [
    "loaded_rf.predict([[-32.057536,3.153296,0.422784,-0.043526,-0.141635,0.001107]])"
   ]
  },
  {
   "cell_type": "code",
   "execution_count": 5,
   "id": "1eec7ce7",
   "metadata": {},
   "outputs": [
    {
     "data": {
      "text/plain": [
       "array(['energetic'], dtype=object)"
      ]
     },
     "execution_count": 5,
     "metadata": {},
     "output_type": "execute_result"
    }
   ],
   "source": [
    "loaded_rf.predict([[9.154362,-4.871085,-0.013093,-0.061009,0.257018,-0.093897]])"
   ]
  },
  {
   "cell_type": "code",
   "execution_count": 32,
   "id": "668bdc7e",
   "metadata": {},
   "outputs": [
    {
     "data": {
      "text/plain": [
       "array(['sad'], dtype=object)"
      ]
     },
     "execution_count": 32,
     "metadata": {},
     "output_type": "execute_result"
    }
   ],
   "source": [
    "loaded_rf.predict([[-15.148294,0.686341,-0.345399,-0.259339,0.110716,-0.029476]])"
   ]
  },
  {
   "cell_type": "code",
   "execution_count": 33,
   "id": "8ecc2d4c",
   "metadata": {},
   "outputs": [
    {
     "data": {
      "text/plain": [
       "array(['happy'], dtype=object)"
      ]
     },
     "execution_count": 33,
     "metadata": {},
     "output_type": "execute_result"
    }
   ],
   "source": [
    "loaded_rf.predict([[-12.734934,-5.007056,-0.029204,0.247136,0.207303,0.151692]])"
   ]
  },
  {
   "cell_type": "code",
   "execution_count": 6,
   "id": "91826a81",
   "metadata": {},
   "outputs": [],
   "source": [
    "import song_val\n",
    "def res(song_name):\n",
    "    data=song_val.num(song_name)\n",
    "    r=loaded_rf.predict(data)\n",
    "    return r[0]"
   ]
  },
  {
   "cell_type": "code",
   "execution_count": 7,
   "id": "8cc2dd04",
   "metadata": {},
   "outputs": [
    {
     "name": "stdout",
     "output_type": "stream",
     "text": [
      "<class 'str'>\n",
      "calm\n"
     ]
    }
   ],
   "source": [
    "a=res('memories')\n",
    "print(type(a))\n",
    "print(a)"
   ]
  },
  {
   "cell_type": "code",
   "execution_count": null,
   "id": "9ab7f1ed",
   "metadata": {},
   "outputs": [],
   "source": [
    "import tkinter as tk\n",
    "  \n",
    "# Top level window\n",
    "frame = tk.Toplevel()\n",
    "frame.title(\"SONG MOOD\")\n",
    "frame.geometry('500x200')\n",
    "\n",
    "C = tk.Canvas(frame, bg=\"white\", height=250, width=300)\n",
    "filename = tk.PhotoImage(file = \"song.png\")\n",
    "background_label = tk.Label(frame, image=filename)\n",
    "background_label.place(x=0, y=0, relwidth=1, relheight=1)\n",
    "C.pack()\n",
    "\n",
    "lbl1 = tk.Label(frame, text = \"Please provide a Song Name:\")\n",
    "lbl1.pack()\n",
    "\n",
    "def printMood():\n",
    "    inp = inputtxt.get(1.0, \"end-1c\")\n",
    "    a=res(inp)\n",
    "    lbl2.config(text = \"The Mood of the song is \"+a)\n",
    "\n",
    "# TextBox Creation\n",
    "inputtxt = tk.Text(frame, height = 1, width = 50)\n",
    "inputtxt.pack()\n",
    "\n",
    "# Button Creation\n",
    "printButton = tk.Button(frame, text = \"GET MOOD\", command = printMood)\n",
    "printButton.pack()\n",
    "  \n",
    "# Label Creation\n",
    "lbl2 = tk.Label(frame, text = \"\")\n",
    "lbl2.pack()\n",
    "frame.mainloop()"
   ]
  },
  {
   "cell_type": "code",
   "execution_count": null,
   "id": "712c574e",
   "metadata": {},
   "outputs": [],
   "source": []
  }
 ],
 "metadata": {
  "kernelspec": {
   "display_name": "Python 3",
   "language": "python",
   "name": "python3"
  },
  "language_info": {
   "codemirror_mode": {
    "name": "ipython",
    "version": 3
   },
   "file_extension": ".py",
   "mimetype": "text/x-python",
   "name": "python",
   "nbconvert_exporter": "python",
   "pygments_lexer": "ipython3",
   "version": "3.8.8"
  }
 },
 "nbformat": 4,
 "nbformat_minor": 5
}
